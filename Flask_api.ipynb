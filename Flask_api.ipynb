{
  "cells": [
    {
      "cell_type": "code",
      "execution_count": null,
      "metadata": {
        "id": "aJk7mlsnFI-A"
      },
      "outputs": [],
      "source": [
        "%matplotlib inline"
      ]
    },
    {
      "cell_type": "markdown",
      "metadata": {
        "id": "xbh_vfZJFI-J"
      },
      "source": [
        "\n",
        "Deploying PyTorch in Python via a REST API with Flask\n",
        "========================================================\n",
        "**Author**: `Avinash Sajjanshetty <https://avi.im>`_\n",
        "\n",
        "In this tutorial, we will deploy a PyTorch model using Flask and expose a\n",
        "REST API for model inference. In particular, we will deploy a pretrained\n",
        "DenseNet 121 model which detects the image.\n",
        "\n",
        ".. tip:: All the code used here is released under MIT license and is available on `Github <https://github.com/avinassh/pytorch-flask-api>`_.\n",
        "\n",
        "This represents the first in a series of tutorials on deploying PyTorch models\n",
        "in production. Using Flask in this way is by far the easiest way to start\n",
        "serving your PyTorch models, but it will not work for a use case\n",
        "with high performance requirements. For that:\n",
        "\n",
        "    - If you're already familiar with TorchScript, you can jump straight into our\n",
        "      `Loading a TorchScript Model in C++ <https://pytorch.org/tutorials/advanced/cpp_export.html>`_ tutorial.\n",
        "\n",
        "    - If you first need a refresher on TorchScript, check out our\n",
        "      `Intro a TorchScript <https://pytorch.org/tutorials/beginner/Intro_to_TorchScript_tutorial.html>`_ tutorial.\n",
        "\n"
      ]
    },
    {
      "cell_type": "markdown",
      "metadata": {
        "id": "czDICW6fFI-S"
      },
      "source": [
        "API Definition\n",
        "--------------\n",
        "\n",
        "We will first define our API endpoints, the request and response types. Our\n",
        "API endpoint will be at ``/predict`` which takes HTTP POST requests with a\n",
        "``file`` parameter which contains the image. The response will be of JSON\n",
        "response containing the prediction:\n",
        "\n",
        "::\n",
        "\n",
        "    {\"class_id\": \"n02124075\", \"class_name\": \"Egyptian_cat\"}\n",
        "\n",
        "\n",
        "\n"
      ]
    },
    {
      "cell_type": "markdown",
      "metadata": {
        "id": "bm2562Z_FI-X"
      },
      "source": [
        "Dependencies\n",
        "------------\n",
        "\n",
        "Install the required dependenices by running the following command:\n",
        "\n",
        "::\n",
        "\n",
        "    $ pip install Flask==2.0.1 torchvision==0.10.0\n",
        "\n"
      ]
    },
    {
      "cell_type": "markdown",
      "metadata": {
        "id": "g9OYxIERFI-c"
      },
      "source": [
        "Simple Web Server\n",
        "-----------------\n",
        "\n",
        "Following is a simple webserver, taken from Flask's documentaion\n",
        "\n"
      ]
    },
    {
      "cell_type": "code",
      "execution_count": null,
      "metadata": {
        "id": "NDfKG51jFI-f"
      },
      "outputs": [],
      "source": [
        "from flask import Flask\n",
        "app = Flask(__name__)\n",
        "\n",
        "\n",
        "@app.route('/')\n",
        "def hello():\n",
        "    return 'Hello World!'"
      ]
    },
    {
      "cell_type": "markdown",
      "metadata": {
        "id": "DJOzSPHuFI-h"
      },
      "source": [
        "Save the above snippet in a file called ``app.py`` and you can now run a\n",
        "Flask development server by typing:\n",
        "\n",
        "::\n",
        "\n",
        "    $ FLASK_ENV=development FLASK_APP=app.py flask run\n",
        "\n"
      ]
    },
    {
      "cell_type": "markdown",
      "metadata": {
        "id": "_Y_O-RO1FI-j"
      },
      "source": [
        "When you visit ``http://localhost:5000/`` in your web browser, you will be\n",
        "greeted with ``Hello World!`` text\n",
        "\n"
      ]
    },
    {
      "cell_type": "markdown",
      "metadata": {
        "id": "Onb-tymXFI-k"
      },
      "source": [
        "We will make slight changes to the above snippet, so that it suits our API\n",
        "definition. First, we will rename the method to ``predict``. We will update\n",
        "the endpoint path to ``/predict``. Since the image files will be sent via\n",
        "HTTP POST requests, we will update it so that it also accepts only POST\n",
        "requests:\n",
        "\n"
      ]
    },
    {
      "cell_type": "code",
      "execution_count": null,
      "metadata": {
        "id": "r22wl5-UFI-m"
      },
      "outputs": [],
      "source": [
        "@app.route('/predict', methods=['POST'])\n",
        "def predict():\n",
        "    return 'Hello World!'"
      ]
    },
    {
      "cell_type": "markdown",
      "metadata": {
        "id": "_9TXsn08FI-n"
      },
      "source": [
        "We will also change the response type, so that it returns a JSON response\n",
        "containing ImageNet class id and name. The updated ``app.py`` file will\n",
        "be now:\n",
        "\n"
      ]
    },
    {
      "cell_type": "code",
      "execution_count": null,
      "metadata": {
        "id": "nJ_QZaQkFI-o"
      },
      "outputs": [],
      "source": [
        "from flask import Flask, jsonify\n",
        "app = Flask(__name__)\n",
        "\n",
        "@app.route('/predict', methods=['POST'])\n",
        "def predict():\n",
        "    return jsonify({'class_id': 'IMAGE_NET_XXX', 'class_name': 'Cat'})"
      ]
    },
    {
      "cell_type": "markdown",
      "metadata": {
        "id": "Xs9dbVGSFI-p"
      },
      "source": [
        "Inference\n",
        "-----------------\n",
        "\n",
        "In the next sections we will focus on writing the inference code. This will\n",
        "involve two parts, one where we prepare the image so that it can be fed\n",
        "to DenseNet and next, we will write the code to get the actual prediction\n",
        "from the model.\n",
        "\n",
        "Preparing the image\n",
        "~~~~~~~~~~~~~~~~~~~\n",
        "\n",
        "DenseNet model requires the image to be of 3 channel RGB image of size\n",
        "224 x 224. We will also normalise the image tensor with the required mean\n",
        "and standard deviation values. You can read more about it\n",
        "`here <https://pytorch.org/vision/stable/models.html>`_.\n",
        "\n",
        "We will use ``transforms`` from ``torchvision`` library and build a\n",
        "transform pipeline, which transforms our images as required. You\n",
        "can read more about transforms `here <https://pytorch.org/vision/stable/transforms.html>`_.\n",
        "\n"
      ]
    },
    {
      "cell_type": "code",
      "execution_count": null,
      "metadata": {
        "id": "YbsDxLw1FI-s"
      },
      "outputs": [],
      "source": [
        "import io\n",
        "\n",
        "import torchvision.transforms as transforms\n",
        "from PIL import Image\n",
        "\n",
        "def transform_image(image_bytes):\n",
        "    my_transforms = transforms.Compose([transforms.Resize(255),\n",
        "                                        transforms.CenterCrop(224),\n",
        "                                        transforms.ToTensor(),\n",
        "                                        transforms.Normalize(\n",
        "                                            [0.485, 0.456, 0.406],\n",
        "                                            [0.229, 0.224, 0.225])])\n",
        "    image = Image.open(io.BytesIO(image_bytes))\n",
        "    return my_transforms(image).unsqueeze(0)"
      ]
    },
    {
      "cell_type": "markdown",
      "metadata": {
        "id": "cZcPFcuAFI-u"
      },
      "source": [
        "The above method takes image data in bytes, applies the series of transforms\n",
        "and returns a tensor. To test the above method, read an image file in\n",
        "bytes mode (first replacing `../_static/img/sample_file.jpeg` with the actual\n",
        "path to the file on your computer) and see if you get a tensor back:\n",
        "\n"
      ]
    },
    {
      "cell_type": "code",
      "execution_count": null,
      "metadata": {
        "id": "nFdrSZSDFI-v"
      },
      "outputs": [],
      "source": [
        "with open(\"../_static/img/sample_file.jpeg\", 'rb') as f:\n",
        "    image_bytes = f.read()\n",
        "    tensor = transform_image(image_bytes=image_bytes)\n",
        "    print(tensor)"
      ]
    },
    {
      "cell_type": "markdown",
      "metadata": {
        "id": "oUHZQs8UFI-w"
      },
      "source": [
        "Prediction\n",
        "~~~~~~~~~~~~~~~~~~~\n",
        "\n",
        "Now will use a pretrained DenseNet 121 model to predict the image class. We\n",
        "will use one from ``torchvision`` library, load the model and get an\n",
        "inference. While we'll be using a pretrained model in this example, you can\n",
        "use this same approach for your own models. See more about loading your\n",
        "models in this :doc:`tutorial </beginner/saving_loading_models>`.\n",
        "\n"
      ]
    },
    {
      "cell_type": "code",
      "execution_count": null,
      "metadata": {
        "id": "uyA2SfuOFI-w"
      },
      "outputs": [],
      "source": [
        "from torchvision import models\n",
        "\n",
        "# Make sure to pass `pretrained` as `True` to use the pretrained weights:\n",
        "model = models.densenet121(pretrained=True)\n",
        "# Since we are using our model only for inference, switch to `eval` mode:\n",
        "model.eval()\n",
        "\n",
        "\n",
        "def get_prediction(image_bytes):\n",
        "    tensor = transform_image(image_bytes=image_bytes)\n",
        "    outputs = model.forward(tensor)\n",
        "    _, y_hat = outputs.max(1)\n",
        "    return y_hat"
      ]
    },
    {
      "cell_type": "markdown",
      "metadata": {
        "id": "NOabfOGcFI-x"
      },
      "source": [
        "The tensor ``y_hat`` will contain the index of the predicted class id.\n",
        "However, we need a human readable class name. For that we need a class id\n",
        "to name mapping. Download\n",
        "`this file <https://s3.amazonaws.com/deep-learning-models/image-models/imagenet_class_index.json>`_\n",
        "as ``imagenet_class_index.json`` and remember where you saved it (or, if you\n",
        "are following the exact steps in this tutorial, save it in\n",
        "`tutorials/_static`). This file contains the mapping of ImageNet class id to\n",
        "ImageNet class name. We will load this JSON file and get the class name of\n",
        "the predicted index.\n",
        "\n"
      ]
    },
    {
      "cell_type": "code",
      "execution_count": null,
      "metadata": {
        "id": "ZQZ99H8IFI-y"
      },
      "outputs": [],
      "source": [
        "import json\n",
        "\n",
        "imagenet_class_index = json.load(open('../_static/imagenet_class_index.json'))\n",
        "\n",
        "def get_prediction(image_bytes):\n",
        "    tensor = transform_image(image_bytes=image_bytes)\n",
        "    outputs = model.forward(tensor)\n",
        "    _, y_hat = outputs.max(1)\n",
        "    predicted_idx = str(y_hat.item())\n",
        "    return imagenet_class_index[predicted_idx]"
      ]
    },
    {
      "cell_type": "markdown",
      "metadata": {
        "id": "7eibFh3sFI-z"
      },
      "source": [
        "Before using ``imagenet_class_index`` dictionary, first we will convert\n",
        "tensor value to a string value, since the keys in the\n",
        "``imagenet_class_index`` dictionary are strings.\n",
        "We will test our above method:\n",
        "\n"
      ]
    },
    {
      "cell_type": "code",
      "execution_count": null,
      "metadata": {
        "id": "O7SuT5bAFI-z"
      },
      "outputs": [],
      "source": [
        "with open(\"../_static/img/sample_file.jpeg\", 'rb') as f:\n",
        "    image_bytes = f.read()\n",
        "    print(get_prediction(image_bytes=image_bytes))"
      ]
    },
    {
      "cell_type": "markdown",
      "metadata": {
        "id": "K7kgpBTBFI-0"
      },
      "source": [
        "You should get a response like this:\n",
        "\n"
      ]
    },
    {
      "cell_type": "code",
      "execution_count": null,
      "metadata": {
        "id": "34xSmfNgFI-0"
      },
      "outputs": [],
      "source": [
        "['n02124075', 'Egyptian_cat']"
      ]
    },
    {
      "cell_type": "markdown",
      "metadata": {
        "id": "1RNABjKDFI-1"
      },
      "source": [
        "The first item in array is ImageNet class id and second item is the human\n",
        "readable name.\n",
        "\n",
        ".. Note ::\n",
        "   Did you notice that ``model`` variable is not part of ``get_prediction``\n",
        "   method? Or why is model a global variable? Loading a model can be an\n",
        "   expensive operation in terms of memory and compute. If we loaded the model in the\n",
        "   ``get_prediction`` method, then it would get unnecessarily loaded every\n",
        "   time the method is called. Since, we are building a web server, there\n",
        "   could be thousands of requests per second, we should not waste time\n",
        "   redundantly loading the model for every inference. So, we keep the model\n",
        "   loaded in memory just once. In\n",
        "   production systems, it's necessary to be efficient about your use of\n",
        "   compute to be able to serve requests at scale, so you should generally\n",
        "   load your model before serving requests.\n",
        "\n"
      ]
    },
    {
      "cell_type": "markdown",
      "metadata": {
        "id": "LPby_xglFI-1"
      },
      "source": [
        "Integrating the model in our API Server\n",
        "---------------------------------------\n",
        "\n",
        "In this final part we will add our model to our Flask API server. Since\n",
        "our API server is supposed to take an image file, we will update our ``predict``\n",
        "method to read files from the requests:\n",
        "\n",
        ".. code-block:: python\n",
        "\n",
        "   from flask import request\n",
        "\n",
        "   @app.route('/predict', methods=['POST'])\n",
        "   def predict():\n",
        "       if request.method == 'POST':\n",
        "           # we will get the file from the request\n",
        "           file = request.files['file']\n",
        "           # convert that to bytes\n",
        "           img_bytes = file.read()\n",
        "           class_id, class_name = get_prediction(image_bytes=img_bytes)\n",
        "           return jsonify({'class_id': class_id, 'class_name': class_name})\n",
        "\n"
      ]
    },
    {
      "cell_type": "markdown",
      "metadata": {
        "id": "P-bYG-m4FI-2"
      },
      "source": [
        "The ``app.py`` file is now complete. Following is the full version; replace\n",
        "the paths with the paths where you saved your files and it should run:\n",
        "\n",
        ".. code-block:: python\n",
        "\n",
        "  import io\n",
        "  import json\n",
        "\n",
        "  from torchvision import models\n",
        "  import torchvision.transforms as transforms\n",
        "  from PIL import Image\n",
        "  from flask import Flask, jsonify, request\n",
        "\n",
        "\n",
        "  app = Flask(__name__)\n",
        "  imagenet_class_index = json.load(open('<PATH/TO/.json/FILE>/imagenet_class_index.json'))\n",
        "  model = models.densenet121(pretrained=True)\n",
        "  model.eval()\n",
        "\n",
        "\n",
        "  def transform_image(image_bytes):\n",
        "      my_transforms = transforms.Compose([transforms.Resize(255),\n",
        "                                          transforms.CenterCrop(224),\n",
        "                                          transforms.ToTensor(),\n",
        "                                          transforms.Normalize(\n",
        "                                              [0.485, 0.456, 0.406],\n",
        "                                              [0.229, 0.224, 0.225])])\n",
        "      image = Image.open(io.BytesIO(image_bytes))\n",
        "      return my_transforms(image).unsqueeze(0)\n",
        "\n",
        "\n",
        "  def get_prediction(image_bytes):\n",
        "      tensor = transform_image(image_bytes=image_bytes)\n",
        "      outputs = model.forward(tensor)\n",
        "      _, y_hat = outputs.max(1)\n",
        "      predicted_idx = str(y_hat.item())\n",
        "      return imagenet_class_index[predicted_idx]\n",
        "\n",
        "\n",
        "  @app.route('/predict', methods=['POST'])\n",
        "  def predict():\n",
        "      if request.method == 'POST':\n",
        "          file = request.files['file']\n",
        "          img_bytes = file.read()\n",
        "          class_id, class_name = get_prediction(image_bytes=img_bytes)\n",
        "          return jsonify({'class_id': class_id, 'class_name': class_name})\n",
        "\n",
        "\n",
        "  if __name__ == '__main__':\n",
        "      app.run()\n",
        "\n"
      ]
    },
    {
      "cell_type": "markdown",
      "metadata": {
        "id": "eYkigvZ_FI-2"
      },
      "source": [
        "Let's test our web server! Run:\n",
        "\n",
        "::\n",
        "\n",
        "    $ FLASK_ENV=development FLASK_APP=app.py flask run\n",
        "\n"
      ]
    },
    {
      "cell_type": "markdown",
      "metadata": {
        "id": "JQXdZmjoFI-3"
      },
      "source": [
        "We can use the\n",
        "`requests <https://pypi.org/project/requests/>`_\n",
        "library to send a POST request to our app:\n",
        "\n",
        ".. code-block:: python\n",
        "\n",
        "  import requests\n",
        "\n",
        "  resp = requests.post(\"http://localhost:5000/predict\",\n",
        "                       files={\"file\": open('<PATH/TO/.jpg/FILE>/cat.jpg','rb')})\n",
        "\n"
      ]
    },
    {
      "cell_type": "markdown",
      "metadata": {
        "id": "-vbl9AGvFI-4"
      },
      "source": [
        "Printing `resp.json()` will now show the following:\n",
        "\n",
        "::\n",
        "\n",
        "    {\"class_id\": \"n02124075\", \"class_name\": \"Egyptian_cat\"}\n",
        "\n",
        "\n"
      ]
    },
    {
      "cell_type": "markdown",
      "metadata": {
        "id": "vZdo6ijhFI-4"
      },
      "source": [
        "Next steps\n",
        "--------------\n",
        "\n",
        "The server we wrote is quite trivial and and may not do everything\n",
        "you need for your production application. So, here are some things you\n",
        "can do to make it better:\n",
        "\n",
        "- The endpoint ``/predict`` assumes that always there will be a image file\n",
        "  in the request. This may not hold true for all requests. Our user may\n",
        "  send image with a different parameter or send no images at all.\n",
        "\n",
        "- The user may send non-image type files too. Since we are not handling\n",
        "  errors, this will break our server. Adding an explicit error handing\n",
        "  path that will throw an exception would allow us to better handle\n",
        "  the bad inputs\n",
        "\n",
        "- Even though the model can recognize a large number of classes of images,\n",
        "  it may not be able to recognize all images. Enhance the implementation\n",
        "  to handle cases when the model does not recognize anything in the image.\n",
        "\n",
        "- We run the Flask server in the development mode, which is not suitable for\n",
        "  deploying in production. You can check out `this tutorial <https://flask.palletsprojects.com/en/1.1.x/tutorial/deploy/>`_\n",
        "  for deploying a Flask server in production.\n",
        "\n",
        "- You can also add a UI by creating a page with a form which takes the image and\n",
        "  displays the prediction. Check out the `demo <https://pytorch-imagenet.herokuapp.com/>`_\n",
        "  of a similar project and its `source code <https://github.com/avinassh/pytorch-flask-api-heroku>`_.\n",
        "\n",
        "- In this tutorial, we only showed how to build a service that could return predictions for\n",
        "  a single image at a time. We could modify our service to be able to return predictions for\n",
        "  multiple images at once. In addition, the `service-streamer <https://github.com/ShannonAI/service-streamer>`_\n",
        "  library automatically queues requests to your service and samples them into mini-batches\n",
        "  that can be fed into your model. You can check out `this tutorial <https://github.com/ShannonAI/service-streamer/wiki/Vision-Recognition-Service-with-Flask-and-service-streamer>`_.\n",
        "\n",
        "- Finally, we encourage you to check out our other tutorials on deploying PyTorch models\n",
        "  linked-to at the top of the page.\n",
        "\n"
      ]
    }
  ],
  "metadata": {
    "kernelspec": {
      "display_name": "Python 3",
      "language": "python",
      "name": "python3"
    },
    "language_info": {
      "codemirror_mode": {
        "name": "ipython",
        "version": 3
      },
      "file_extension": ".py",
      "mimetype": "text/x-python",
      "name": "python",
      "nbconvert_exporter": "python",
      "pygments_lexer": "ipython3",
      "version": "3.6.13"
    },
    "colab": {
      "name": "flask_rest_api_tutorial.ipynb",
      "provenance": []
    }
  },
  "nbformat": 4,
  "nbformat_minor": 0
}